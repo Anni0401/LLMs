{
 "cells": [
  {
   "cell_type": "code",
   "execution_count": 1,
   "metadata": {},
   "outputs": [
    {
     "name": "stdout",
     "output_type": "stream",
     "text": [
      "Groq API Key loaded successfully\n",
      "Tavily API Key loaded successfully\n"
     ]
    }
   ],
   "source": [
    "from dotenv import load_dotenv\n",
    "import os\n",
    "\n",
    "load_dotenv()\n",
    "\n",
    "if os.getenv(\"GROQ_API_KEY\"):\n",
    "    print('Groq API Key loaded successfully')\n",
    "else:\n",
    "    print('Groq API Key loading failed, please make sure the .env file exists and the spelling is correct')\n",
    "\n",
    "if os.getenv(\"TAVILY_API_KEY\"):\n",
    "    print('Tavily API Key loaded successfully')\n",
    "else:\n",
    "    print('Tavily API Key loading failed, please make sure the .env file exists and the spelling is correct')"
   ]
  },
  {
   "cell_type": "code",
   "execution_count": 11,
   "metadata": {},
   "outputs": [],
   "source": [
    "import re\n",
    "import httpx\n",
    "import os\n",
    "\n",
    "from langchain_groq import ChatGroq\n",
    "load_dotenv()\n",
    "\n",
    "chat_model = ChatGroq(\n",
    "    model=\"llama-3.1-70b-versatile\",\n",
    "    temperature=0,\n",
    "    max_tokens=None,\n",
    "    timeout=None,\n",
    "    max_retries=2,\n",
    ")"
   ]
  },
  {
   "cell_type": "code",
   "execution_count": 15,
   "metadata": {},
   "outputs": [],
   "source": [
    "\n",
    "# Import Autogen components\n",
    "from autogen import AssistantAgent, UserProxyAgent,  ConversableAgent\n",
    "from typing import TypedDict, List, Annotated\n",
    "import operator\n",
    "from typing import TypedDict, List, Tuple\n",
    "import operator\n",
    "\n"
   ]
  },
  {
   "cell_type": "code",
   "execution_count": 19,
   "metadata": {},
   "outputs": [],
   "source": [
    "llm_config = {\"model\": \"llama-3.1-70b-versatile\", \"api_key\": os.getenv(\"GROQ_API_KEY\"), \"api_type\": \"groq\"}\n",
    "assistant = ConversableAgent(\"chatbot\", llm_config=llm_config)\n"
   ]
  },
  {
   "cell_type": "code",
   "execution_count": 20,
   "metadata": {},
   "outputs": [
    {
     "name": "stdout",
     "output_type": "stream",
     "text": [
      "\u001b[31m\n",
      ">>>>>>>> USING AUTO REPLY...\u001b[0m\n",
      "{'content': 'A man walked into a library and asked the librarian, \"Do you have any books on Pavlov\\'s dogs and Schrödinger\\'s cat?\" \\n\\nThe librarian replied, \"It rings a bell, but I\\'m not sure if it\\'s here or not.\"', 'refusal': None, 'role': 'assistant', 'audio': None, 'function_call': None, 'tool_calls': None}\n"
     ]
    },
    {
     "name": "stderr",
     "output_type": "stream",
     "text": [
      "/opt/anaconda3/envs/myenv/lib/python3.9/site-packages/autogen/oai/groq.py:279: UserWarning: Cost calculation not available for model llama-3.1-70b-versatile\n",
      "  else:\n"
     ]
    }
   ],
   "source": [
    "reply = assistant.generate_reply(messages=[{\"content\": \"Tell me a joke.\", \"role\": \"user\"}])\n",
    "print(reply)"
   ]
  }
 ],
 "metadata": {
  "kernelspec": {
   "display_name": "myenv",
   "language": "python",
   "name": "python3"
  },
  "language_info": {
   "codemirror_mode": {
    "name": "ipython",
    "version": 3
   },
   "file_extension": ".py",
   "mimetype": "text/x-python",
   "name": "python",
   "nbconvert_exporter": "python",
   "pygments_lexer": "ipython3",
   "version": "3.9.20"
  }
 },
 "nbformat": 4,
 "nbformat_minor": 2
}
