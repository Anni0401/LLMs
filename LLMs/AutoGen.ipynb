{
 "cells": [
  {
   "cell_type": "code",
   "execution_count": 1,
   "metadata": {},
   "outputs": [
    {
     "name": "stdout",
     "output_type": "stream",
     "text": [
      "Groq API Key loaded successfully\n",
      "Tavily API Key loaded successfully\n"
     ]
    }
   ],
   "source": [
    "from dotenv import load_dotenv\n",
    "import os\n",
    "\n",
    "load_dotenv()\n",
    "\n",
    "if os.getenv(\"GROQ_API_KEY\"):\n",
    "    print('Groq API Key loaded successfully')\n",
    "else:\n",
    "    print('Groq API Key loading failed, please make sure the .env file exists and the spelling is correct')\n",
    "\n",
    "if os.getenv(\"TAVILY_API_KEY\"):\n",
    "    print('Tavily API Key loaded successfully')\n",
    "else:\n",
    "    print('Tavily API Key loading failed, please make sure the .env file exists and the spelling is correct')"
   ]
  },
  {
   "cell_type": "code",
   "execution_count": 2,
   "metadata": {},
   "outputs": [],
   "source": [
    "import re\n",
    "import httpx\n",
    "import os\n",
    "\n",
    "from langchain_groq import ChatGroq\n",
    "load_dotenv()\n",
    "\n",
    "chat_model = ChatGroq(\n",
    "    model=\"llama-3.1-70b-versatile\",\n",
    "    temperature=0,\n",
    "    max_tokens=None,\n",
    "    timeout=None,\n",
    "    max_retries=2,\n",
    ")"
   ]
  },
  {
   "cell_type": "code",
   "execution_count": 3,
   "metadata": {},
   "outputs": [
    {
     "name": "stderr",
     "output_type": "stream",
     "text": [
      "flaml.automl is not available. Please install flaml[automl] to enable AutoML functionalities.\n"
     ]
    }
   ],
   "source": [
    "\n",
    "# Import Autogen components\n",
    "from autogen import AssistantAgent, UserProxyAgent,  ConversableAgent\n",
    "from typing import TypedDict, List, Annotated\n",
    "import operator\n",
    "from typing import TypedDict, List, Tuple\n",
    "import operator\n",
    "\n"
   ]
  },
  {
   "cell_type": "code",
   "execution_count": 50,
   "metadata": {},
   "outputs": [],
   "source": [
    "llm_config = {\"model\": \"llama-3.1-70b-versatile\", \"api_key\": os.getenv(\"GROQ_API_KEY\"), \"api_type\": \"groq\"}\n",
    "assistant = ConversableAgent(\"chatbot\", llm_config=llm_config)\n"
   ]
  },
  {
   "cell_type": "code",
   "execution_count": 51,
   "metadata": {},
   "outputs": [
    {
     "name": "stdout",
     "output_type": "stream",
     "text": [
      "\u001b[31m\n",
      ">>>>>>>> USING AUTO REPLY...\u001b[0m\n",
      "{'content': 'A man walked into a library and asked the librarian, \"Do you have any books on Pavlov\\'s dogs and Schrödinger\\'s cat?\" \\n\\nThe librarian replied, \"It rings a bell, but I\\'m not sure if it\\'s here or not.\"', 'refusal': None, 'role': 'assistant', 'audio': None, 'function_call': None, 'tool_calls': None}\n"
     ]
    }
   ],
   "source": [
    "reply = assistant.generate_reply(messages=[{\"content\": \"Tell me a joke.\", \"role\": \"user\"}])\n",
    "print(reply)"
   ]
  },
  {
   "cell_type": "code",
   "execution_count": 41,
   "metadata": {},
   "outputs": [],
   "source": [
    "import os\n",
    "\n",
    "player_config_list = [\n",
    "    {\n",
    "        \"model\": \"llama-3.1-70b-versatile\",\n",
    "        \"api_key\": os.environ.get(\"GROQ_API_KEY\"),\n",
    "        \"api_type\": \"groq\"\n",
    "    },\n",
    "]\n"
   ]
  },
  {
   "cell_type": "code",
   "execution_count": 42,
   "metadata": {},
   "outputs": [],
   "source": [
    "player_red = ConversableAgent(\n",
    "    name=\"Player Red\",\n",
    "    system_message=\"You are a code names player. \"\n",
    "    \"First call get_grid() first, to get list of words of your team. \"\n",
    "    \"Then call make_move(move) to make a move.\",\n",
    "    llm_config={\"config_list\": player_config_list, \"cache_seed\": None},\n",
    ")\n",
    "\n",
    "player_black = ConversableAgent(\n",
    "    name=\"Player Blue\",\n",
    "    system_message=\"You are a code names player. \"\n",
    "    \"First call get_grid() first, to get list of words of your team. \"\n",
    "    \"Then call make_move(move) to make a move.\",\n",
    "    llm_config={\"config_list\": player_config_list, \"cache_seed\": None},\n",
    ")"
   ]
  },
  {
   "cell_type": "code",
   "execution_count": 43,
   "metadata": {},
   "outputs": [],
   "source": [
    "def get_grid()-> Annotated[str, \"A list of words for associated team on the grid\"]:\n",
    "  \n",
    "    return  \"default\"\n",
    "\n",
    "def make_move(move: Annotated[str, \"A move in form of a word,int pair for the team to guess.\"]) -> Annotated[str, \"Result of the move.\"]:\n",
    "    return \" words to uncover in grid\""
   ]
  },
  {
   "cell_type": "code",
   "execution_count": 44,
   "metadata": {},
   "outputs": [],
   "source": [
    "def check_made_move(msg):\n",
    "    global made_move\n",
    "    if made_move:\n",
    "        made_move = False\n",
    "        return True\n",
    "    else:\n",
    "        return False\n",
    "\n",
    "\n",
    "grid_proxy = ConversableAgent(\n",
    "    name=\"Board Proxy\",\n",
    "    llm_config=False,\n",
    "    # The board proxy will only terminate the conversation if the player has made a move.\n",
    "    is_termination_msg=check_made_move,\n",
    "    # The auto reply message is set to keep the player agent retrying until a move is made.\n",
    "    default_auto_reply=\"Please make a move.\",\n",
    "    human_input_mode=\"NEVER\",\n",
    ")"
   ]
  },
  {
   "cell_type": "code",
   "execution_count": 52,
   "metadata": {},
   "outputs": [],
   "source": [
    "llm_config={\"config_list\": player_config_list, \"cache_seed\": 42}\n",
    "\n",
    "member1 = ConversableAgent(\n",
    "    name=\"Team member1\",\n",
    "    llm_config=llm_config,\n",
    ")\n",
    "member2 = ConversableAgent(\n",
    "    name=\"Team member2\",\n",
    "    system_message=\"Creative in answer.\",\n",
    "    llm_config=llm_config,\n",
    ")"
   ]
  },
  {
   "cell_type": "code",
   "execution_count": 65,
   "metadata": {},
   "outputs": [],
   "source": [
    "from autogen import GroupChatManager, GroupChat\n",
    "\n",
    "groupchat = GroupChat(agents=[  member1, member2], messages=[], max_round=3, speaker_selection_method='round_robin',  # Ensures turn-taking\n",
    "    allow_repeat_speaker=False )\n",
    "manager = GroupChatManager(groupchat=groupchat, llm_config=llm_config)"
   ]
  },
  {
   "cell_type": "code",
   "execution_count": 66,
   "metadata": {},
   "outputs": [
    {
     "name": "stdout",
     "output_type": "stream",
     "text": [
      "\u001b[33mInit\u001b[0m (to chat_manager):\n",
      "\n",
      "find the words on the given grid given the clue by your spymaster.\n",
      "\n",
      "--------------------------------------------------------------------------------\n",
      "\u001b[32m\n",
      "Next speaker: Team member1\n",
      "\u001b[0m\n",
      "\u001b[31m\n",
      ">>>>>>>> USING AUTO REPLY...\u001b[0m\n",
      "\u001b[33mTeam member1\u001b[0m (to chat_manager):\n",
      "\n",
      "I'd be happy to help you find the words on the grid. However, I need a few more details. \n",
      "\n",
      "Please provide me with the following:\n",
      "\n",
      "1. The grid itself: I need the letters on the grid to be able to help you.\n",
      "2. The clue from your spymaster: I need to know what the clue is so I can give you accurate answers.\n",
      "3. Any other specific instructions or context: Are there any specific rules or constraints I should be aware of?\n",
      "\n",
      "Once I have this information, I'll do my best to help you find the words on the grid.\n",
      "\n",
      "--------------------------------------------------------------------------------\n",
      "\u001b[32m\n",
      "Next speaker: Team member2\n",
      "\u001b[0m\n",
      "\u001b[31m\n",
      ">>>>>>>> USING AUTO REPLY...\u001b[0m\n",
      "\u001b[33mTeam member2\u001b[0m (to chat_manager):\n",
      "\n",
      "Here's the grid and other details:\n",
      "\n",
      "Grid:\n",
      "A E H L N\n",
      "O I M R T\n",
      "S D F G Y\n",
      "B C J K U\n",
      "M P Q V W\n",
      "X Z  -  (there's an empty space on the grid)\n",
      "\n",
      "Clue from the Spymaster: \n",
      "Find the words hidden in the grid related to \"Music\".\n",
      "\n",
      "--------------------------------------------------------------------------------\n",
      "\u001b[32m\n",
      "Next speaker: Team member1\n",
      "\u001b[0m\n",
      "\u001b[31m\n",
      ">>>>>>>> USING AUTO REPLY...\u001b[0m\n",
      "\u001b[33mTeam member1\u001b[0m (to chat_manager):\n",
      "\n",
      "Let's examine the grid for words related to \"Music\". Here are some possible words that I've found:\n",
      "\n",
      "1. Tune is not there, but Jive is not there either however 'Hymn' is present: No.\n",
      "But 'E H L' is there, no word is there \n",
      "and also HYM, no, \n",
      "- 'M Y M' - no,  or no.\n",
      "'T E H L', no. And Finally I have,  \n",
      "'E H L' or H L, no.\n",
      "I got 'H E L'... no, \n",
      "one word says 'I  E'  HE L  - I've got it. - no but ('it's')  I am getting word- from clues\n",
      "- 'Yin- Y-E*- H ' can it be in place? - it will make i M *E( we not know other\n",
      " the answer can be E I- E  L  - I dont think other one is 'i-L' no you see \"  we dont find.. so \n",
      " this will \n",
      " no answer for M I \n",
      " (there -other \n",
      " H  and 'E' will be left - but does that  a thing to' do other word - that time'.' \n",
      " how about - a E in front 'H E L' with the order given 'you get he \n",
      "'from other it can HE J \n",
      " will if I'm not E I S wrong - no get \n",
      " and can be that just word that was say to S at 'f.' after S T, the music term after doing as to come first right J - can do that this *L' for HE - H E was...- then M is already getting for this *Y word I  to a \n",
      " is Y give I  be first after is at its Y right after the right we know say \n",
      " is...  I got word one.\n",
      " It ' is an S to is \n",
      " its word \n",
      " first that  with the is ' the music after when that can be a word, say  it by * by *e you H s \n",
      " J see 'E *word be get word M E can - I see ,music  - I C that do is it is E . will  can first be right - \n",
      " think- S just word about I \n",
      " if i do u on grid.\n",
      " lets do right - S ' is - yes at you go time \n",
      " can see, no. after - of we  this will , word i, to i ' that need word from after say J- word that - see -that H a do  Y * to and other word ' I can - I came now  get J S were is go other is - U  what see so Y ' last word  music for 'no - we try check our for as get word right * are at * to, ' music first me, ME this S' over E ' then. but  were i all do- over \n",
      " all this ' I like see \n",
      " (i got last so i write music I got last music I dont know i do not last one \n",
      " time words music- all but or words E you word get word get is I got do over - them grid all \n",
      " here - from Music or on them so music some on all that on them and I them you - on on  find all  - check these for words   to and them get over  music that word see we got,  finally and word  had them as done when like this I to your - you will  will just right  only music, out you word have out these there has set to try were grid our to out also find \n",
      "  given go see done give answer 'ME'.\n",
      " \n",
      "Here is my final Answer. one of the Words is 'HELY' which is no word in our language. and The words are 'HEL ' is there and answer one other not word that for music word is... \n",
      " These music I got, are  'E HIM',  (no, I wont) I wont there use no E write say ME just word so we get on them no Y' U \n",
      " put as only go then over word when from E back M use music first music your and done there you E HIM word word our as I go in music answer them your answer - there set got out \n",
      " we then there is once we went them are \n",
      "I  to them find in find on find done let have grid I wrote on find these that set music and I I get set on music here  I just these set words ( just I give words got now music had them has it but finally one one word no thing \n",
      " first word - ' first  word your for final music first for I in music answer I as with I get one your from 'over music word for music word 'I came music me but I get in just  two them I and you when see do word give even I  if  you any of  5, 4 and  2 only  at I so take it at which all see see I, \n",
      " over words  for this get that with is word a word music the 'that'  'these  word  not but, but as these get word and  music - that your as words just its we do  we your music be - words but it will we these there get by done this answer music just and from do first have - ME just no a music ' I finally get word have for 'your music word' give last word music - I music done just 'see see find  try the do for is still I too time  have all words given our grid all when I grid run and after they had in like your these set, of word one word - also run words set in no I know word but when  word word will then  on grid run  but I if  given if for you in is  your  our in word to 'see see your set time this word are still if  just given to be I then  given to this like  many you  given but know  on do  after  and  your not but can  music do word answer given find they music our in on words given get word set this and not it. be given word and set next answer given word we given know and given you run all word answer first word set, same as  here these set and given these music set word know music  next want find in place this * from see * then that is to get so set done given given over on our we in grid - given if music - know on we time set set to on music - you I answer this set all know set music I  it set  in on I set on- be first do word I do know all - one be then word  see in word know music set is this and music  word know in that you do that is used time set we know, will given set music as I run set ran time music - music with - is be here the music word have given and after set music in you I try done I music see I we time have no I do on music first to answer word, here after word one is already it given I in have if set word is no on see one the  same  but  music  and word music  given, and then this, with word this many in grid you you do answer - just - you run know you have one just know all run time and word I answer will have much do to on. as see also see * have be or and many word first have  we  but 1 set just for all see  'music here do  that word find  it time music here that us first you music and for music word know  have run  we  a set do we  music this a music more set  have this *  better well see that have already know  music you I so  'do music we, to have but try also, more get that. I made my guess I know  that one in  I you   music we no  be this have have this  - still on at one have word once we grid first is done all, I will make my guess first I set check rest now music \n",
      "  The grid first has set words let me check on grid see all J have already know, no one on music next a word first will but this word are same music me  I after word I know already music  we are ME have L H my  I one I music can are word be ME set next time  other get music last word can I you word if ME this set music check grid also on our just (you word with be see word word * is can be see them at  * at with * after one to  it in * one are done on given you once know this you that ME will be same word the word ME so the ME may be still no if word be ME know  just know  some with one. ' the for is I  a first all ME we show so know by you.\n",
      " in now \n",
      " first one do 'word answer' we also the  the be I so made like rest and get be like I- check word grid many your ' time I need you know I music I I so guess I put I before guess also on' your so for only one you to like any word answer I to grid all the word answer get know go so like - you for this I take but  to word -  we know this  I took so done one you are  they just word one first so got only done know check first just word know ' I be like you your guess now I word music after word answer what ME for also just be word one also on but know you this in - this  just 'answer like time you get you want one know don so  for want time know the know music music so be - check is, when now time it one word * be music for - set get first you have what  one know - know that know it first one - get have what to go is get we know that it  put we music made I don no.\n",
      " so - music one know word, also to one after that so have you in ' and  not I that me, will this first word a  and get . so  like word also do ' know if me  you see if word is so know word, get know in this in music know word read - find know your word just go so music do on this word have - just I - check *  to you I be 'do to word for you this have this it if also word  our in get music or show music now can have grid one  will word know check one on but - get  so also only  answer  I  know  that only music I for grid  a  can word be one get we not do check music check now so first just  for this an - check get also only - you I answer not have this  it get set the word. one \n",
      "  I want be say- at have this word *  also first like word  I but set music so put just one get a  I have a get this I you know no word I for you set this - that to -word I came word say word  to I 'so say I this I show ' with word is I first set this that know - now make first word this get I  this set I to  it it will  have it know for music not for  you. and you ' make as you  music have  with I  but I see so -  that also this so first is and know have know also now but I music word I this one word get music know know it this show this - one on all check word know know but no this first  - music to know first see this know grid with this I also like you as will get music word put say to if *music this have get  get word I  have check  one for so music to you like me word you use for after one you  for it 'how also if put we do  over but this, I now word use know that at also from be said is do I  have  this answer music to, check - but music music after check made know word this I so this will in this check also I make use be also just this   you also for at - you be have one, can will in this this  and same \n",
      " then get  one from \n",
      " get word and then run now other grid,  and all answer grid check rest now have don't over at music use done  word get on word * I now \n",
      " have it so grid them all use * \n",
      " take and ME word this with run so rest - and in get -  *  from grid for next first  all I check them I have all - them run word every after - have them grid in  - this like every one for will I use in rest on I this get back use and you word use word music and for first, this check  -  one all check word get first music next check and - every rest check this now word check rest rest grid all - all every  this run grid  - I now use on now check have and rest on know next on check I and get every run first on first this run all check  this every rest check and in know this  rest and know them this \n",
      " run check - music my music - other use over - use check rest check  word * music music  one -  and music check every on music - know music rest music - check check  know to check this grid every rest and for use this check every music this run all every this - them music grid get check rest - all music grid this  first check and done  music this check every rest first every this grid  every use them this grid every check every  first word - first music one check every rest grid rest grid  - done check - used rest grid every music this grid first run and this  check this every rest check this rest now all this first now have all * \n",
      " have ' and now - for music so now  from one first  - the get  answer done  after -  - go word for run  some this first other word * see got  also  do to  know and rest you I so know,  to like give music answer want be all grid your answer for one word so you I also now  to be see check grid this one - one then now  have word ( we know  - 'ME too) is done * and word  if on  then - first, you * and get - know -word is be see  to on - * and - the is see for to - one on  word - you have  -  done on now is have  word  for ( just word now it word to them  ) you first is word now ( one on * now see word - for * first to word this * get check also on - word first to on to have word  your only this first that now just * also music for that music to music - the then go check see - have the and one check on get first one now for music word for then we for this one and then run we this check the now check for but first first right \n",
      " - music answer first one word for then - first -  know - the that get for this  and now for then I  this run  first get one check  for have music have first have check  have this is  see to now one check go now one check for one word-  and rest - grid all done have I and check for this  - all the answer - check know, I  now word -  are in all music know music for one check - music this now also have one  for grid every to now check and one  check  music  all to have    have rest  knowledge now  and to you  and get you know on for music check have  one word have for have music and now can check  this now this  every check all  - all check all  - music check and have done   I have checked so many I am getting one and I am giving you the word ME I am also giving word \n",
      " ' HELY'\n",
      " since \n",
      " but I want  check with other  ' word Hymn' (just if got word, no)\n",
      " just this word in I  no if know \n",
      " have then not word know  ( I know have word) the word 'YIN' is there no  word ' but (  known known know music one known) I am going to be  giving answer, but I am try answer I also I word to check last ( for answer \n",
      " on word  just  - but - just  * if then - these word - check have grid this  so yes word word but - so  answer word rest check rest music  have rest - check for just  rest we just know music - rest and - and - now rest have check rest every  check for this - in answer we  that music *  - answer rest every * \n",
      "  the then get  one get word on  this check music  know  music - final now and  now  music check get  word (word for) then check  - all done - I let  do  have get one done - check (just check all check and * word and check every check have for * answer just get - \n",
      "  you  try show and every rest - rest for get every just music grid check word  check but word on check check on music this \n",
      " have rest for have every answer so in or do music then when  see last for \n",
      " first - music word know all now - get check all for so rest  every to for check every check grid just rest or you for just music -  check now word now this, so rest check like rest music word and then get I too these I word get I one last music both have once  final once - once I and one at all I word once  want  put put this and one word do this  check  first check  once the first once word  check check this get this check and music check  final check after will  have do rest first word check word word now do grid after  do once you check last check one grid all last word  once word  every music last music check last  this have first  time check one check, once  - music this and you last word have to -  check,  music last check have once - this first and for every this once word - this  check check \n",
      "  and put  this  rest  word - word but put word   - every  word every word this check - and check music get  every check rest have get every this check and this have get all  this good  - this you give check grid have real this get every this every check music - like our - you know  at - end \n",
      " every 'check  have also * music  word* music  word word no have last word and one  last check  and one give  word  know word this rest - for now on * word like music I word get last and every check now this that word and last check - that  check every last have get this  one get music know  have music one  every  last check this for get last every  last  this music this good and good also, now good - done for with word answer * this  good every \n",
      " give  know answer is * ' word check take first check this now * we ' every  this word music *  music - and you check, - rest and rest, - one so * one * and  this word to this grid check check and music have rest  - - done,  you  check last  do last this for check know on, now and for last  do check one  music  on music now all  - for get check this and this time get this - music so last * in set check one check grid - and all * \n",
      " music rest * on check music - this and so also  for have this check every first this one this - rest and  - - this check - music get * check rest music for in you check music now this  word  check last and rest this  * \n",
      "check on music I, get check  but music you I get check  for * to last *  on every you * if every check - check know time word - this - * just - music * - like you  - music - only * \n",
      " give every  word grid  music  have grid on grid music -  for every and now  check in music on * music check every music check one and  take rest check - * in for rest and * music get check every and check on music and every rest, for word get and rest for - all know rest this on have  grid this grid for - * first - rest music \n",
      "  ME  word for have this - you every  have word * grid  word music - and this  for have  every so music * in on for music have  check every music rest grid this and grid  music for check get and rest now know word for, but just - this check rest  check every * music - for word this on \n",
      " no  word * from 'hel' take one first  on on check know  on but - for this  for music word * this this start for first to  for on to  word check one music check on check - but from this - first for this to get word - word  first this music first have first have one  - for this - this  music but get this music for word one then word music on  music in - on first - no have but on  - you have music word and - check word to have  answer - this music check - I check - I check have - check rest but - rest in one have it for rest - get have can this check * but get music  -  you have  know rest - and check now get this on - music  to word have music check in on get - get every - now  to on this music music check know first every music in - for music rest check - this check have - check every * you music * every rest check I on music word  and get know this on for check  know -  you for check get music and now have every rest you this for this on and check music rest grid  - I \n",
      " have check - in last word. \n",
      " check * one and you I music get - word rest music  get rest on for check - you first this - I first word music * last word one last word I music  every music check know - this - music this you * music grid check * and you I have \n",
      " final music word for one get done word music time  but know, but also word.  that rest check word one now that  all know music get even music get check - word do - also give word I word music check all for give music word and music  you  a music for for in on this know on check this have every music - use - one now rest - this  word - but word.  now good last check  . \n",
      " there  check - on this music have  good one I for want. * you check  word also you know.  - and for but one for music  - for look but rest but I, not no but word on you have one to check know I on - word I -  one on know I  - ' ME.\n",
      "   at done music you know  know  new want.\n",
      " so last - have and get - check  one  now I we and  I too.\n",
      " not there and and I made sure word. we now on -  now good rest check  have now  word * check this all get have for * just check know word  have have and music check  once check - grid * just I so also  music -  on check now have. \n",
      " so, I have * grid music check * - word music one - music get on for  one get music music for  one rest check word on get now -  done  know again. you have this word  now check once music * done music on get  know * have rest  for this this * grid know music but just you have now word  once check  have now one music check you  the  on check last  check.  last check know  last check know and rest check  I.\n",
      " The answer is 'ME '  is music related as this word is related other word name ( not only word name), I know 'Hely' is not and other * last word  for answer for music I did (last this time),  you know ' word rest this * not one for know music  there but one have for I don know music I have for you but * the music one  this  for know that * to know now but for have this have this these word I so this for this give music answer for me give this * in know word,  in we ' grid for check all of * first once go give word music word rest * and music have but * when have answer ' but  when  answer  to have word when but word for music have word * no  * word but word have for all * - I was or use will to and it is to know but I for or this once but in * \n",
      " There are two possible words. The words are \n",
      "  1)  ' ME' is a small 'three letter' word. The word is hidden vertically  * down in this word is related me -  to  music  a  name for word as it name given for music as I say or  better in have example this first to name make  name to use like ' name some term name , some for name  artist for music some other using this is word know name' * * I  know music. * in your \n",
      "  so I just so - this give and after that the last check given for I have for this get know -  to this know this time the word have word  music I  this word  this one last * grid - let to get this last this -  grid  * word all know music for - know music have for me so only I  also just have last but have music to this rest  (you know I make before try word guess have 'last ( word but don music and so (  you  right)  to grid for I don know  -  a check word grid * and so * check music know  in word this word name music one  - and its name \n",
      "  All word with name use for even music - for name type, * this one music last check to get  (ME)  given but for music one  name get or  music * not  related get one music word do  name which name for no use in \n",
      "  last check word for *  in have for check one music - first * get to know  first  first know * for  - word this one * will know word will know have this check for get music word this one word to check for one music get have  check music word first  know check  know word this  to check have this check rest music get rest every check on rest check have to for check music \n",
      "  this given  make music and one both  check this  * given grid the word * music I this music have for no  word  music - for if grid  word have on have  music, -  also know word I this word - word * on this grid first * do first music music for word know rest music \n",
      "  now  have check  to have check * all, to - just for this I say this and check give once you - all check to me  to word all get check and word this for one on music check rest one get have have and music all,  * have this word for grid - rest check rest, - check all can know this * grid one - now to grid this this one rest on, this have rest check on  check have and music rest to  word * grid this check check grid - only one answer to see  - give answer  - rest check have know music - \n",
      "  2)  The word related to music from our grid - is word check then only word - check and check word is - ' HEL' , The word 'HEL' in 'ME' may is complete word  ' to use * no word  this music - with word word word check for - check music rest music - * music word in this rest - so check get have music one, \n",
      " ( hel -  also give use * for some with *  type in this this * this check words * full - this from to some way first how check to  word * know word to this  check, we this  use check, \n",
      " first this now * just we want - use in put use - with for use example no with to * that one * is one from first - no example come * do music type this rest use rest music use we use now -  last just from - is how * I have  got one from 'ME',  ( only I now know - last just few  first check one on grid - for first get one - music - check I for get know is music first get is  this word know to music word this this check  rest have to after first know this this music check get word music one check * music this - also check  get last check  -  one first music this get * last have  ' so this last get, ( like music first  this know * first I will  * to grid check music * check  * one note: since 'everybody' has this as real word . Music comes from every one in this, like above 'ME' answer one I given  to above  - full  this  second word * in relation to everyone  like given this grid this grid first - * music first related  'related one  I word last  seen word in * note just also tell above  about  word music first - 'M E'(   the word answer one for first I am give \" also one name is word some example full real way just for also is ME\"  I given my explain - name * way first answer one ' for use check but answer better M E *'  can be then music real  word first then  I after first know first also also get) get music to grid  first have one real grid so also  for first used  in this I to have some now  music  name some given I  every grid  know check  have can now  this  every  check just name that is have * real to get now this  given have answer * so with word example  give or explain one more  also this check with explain and for  I to  know check \n",
      " The words  'ME and HEL'  and ( related to ' name. but since not enough word, I give not my word related  - grid word just you, and music all with to every example more * (from this like for every grid and way one and '  no - see more way to * but this music first I grid give on one so grid first just time - first use - and word with first  have word real use first also * use one is -  to more also and also given * you know my  music * this one first * get you music one I get try - given check first * grid check in word even - and have * now given word first word for you in check to just this every word * you  check grid have music check have for in no - way one but *  with name just - first first just - name use have check music and also have real.\n",
      "\n",
      "--------------------------------------------------------------------------------\n",
      "\u001b[32m\n",
      "Next speaker: Team member2\n",
      "\u001b[0m\n",
      "\u001b[31m\n",
      ">>>>>>>> USING AUTO REPLY...\u001b[0m\n",
      "An error occurred during chat initiation: Groq exception occurred: Error code: 413 - {'error': {'message': 'Request too large for model `llama-3.1-70b-versatile` in organization `org_01jahy7697e0hvmxq878h49sza` on tokens per minute (TPM): Limit 6000, Requested 6540, please reduce your message size and try again. Visit https://console.groq.com/docs/rate-limits for more information.', 'type': 'tokens', 'code': 'rate_limit_exceeded'}}\n"
     ]
    }
   ],
   "source": [
    "\n",
    "initial_message=\"find the words on the given grid given the clue by your spymaster.\"\n",
    "\n",
    "initializer = UserProxyAgent(\n",
    "    name=\"Init\",\n",
    ")\n",
    "\n",
    "try:\n",
    "    initializer.initiate_chat(manager, message =initial_message)\n",
    "except Exception as e:\n",
    "    print(f\"An error occurred during chat initiation: {e}\")\n"
   ]
  }
 ],
 "metadata": {
  "kernelspec": {
   "display_name": "myenv",
   "language": "python",
   "name": "python3"
  },
  "language_info": {
   "codemirror_mode": {
    "name": "ipython",
    "version": 3
   },
   "file_extension": ".py",
   "mimetype": "text/x-python",
   "name": "python",
   "nbconvert_exporter": "python",
   "pygments_lexer": "ipython3",
   "version": "3.9.20"
  }
 },
 "nbformat": 4,
 "nbformat_minor": 2
}
