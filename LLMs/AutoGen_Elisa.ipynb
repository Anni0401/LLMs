{
 "cells": [
  {
   "cell_type": "markdown",
   "metadata": {},
   "source": [
    "## Set-Up of AutoGen, get APIs, necessary imports"
   ]
  },
  {
   "cell_type": "code",
   "execution_count": 11,
   "metadata": {},
   "outputs": [
    {
     "name": "stdout",
     "output_type": "stream",
     "text": [
      "Groq API Key loaded successfully\n",
      "Tavily API Key loaded successfully\n"
     ]
    }
   ],
   "source": [
    "from dotenv import load_dotenv\n",
    "import os\n",
    "\n",
    "load_dotenv()\n",
    "\n",
    "if os.getenv(\"GROQ_API_KEY\"):\n",
    "    print('Groq API Key loaded successfully')\n",
    "else:\n",
    "    print('Groq API Key loading failed, please make sure the .env file exists and the spelling is correct')\n",
    "\n",
    "if os.getenv(\"TAVILY_API_KEY\"):\n",
    "    print('Tavily API Key loaded successfully')\n",
    "else:\n",
    "    print('Tavily API Key loading failed, please make sure the .env file exists and the spelling is correct')"
   ]
  },
  {
   "cell_type": "code",
   "execution_count": 12,
   "metadata": {},
   "outputs": [],
   "source": [
    "import re\n",
    "import httpx\n",
    "import os\n",
    "\n",
    "from langchain_groq import ChatGroq\n",
    "load_dotenv()\n",
    "\n",
    "chat_model = ChatGroq(\n",
    "    model=\"llama-3.1-70b-versatile\",\n",
    "    temperature=0,\n",
    "    max_tokens=None,\n",
    "    timeout=None,\n",
    "    max_retries=2,\n",
    ")"
   ]
  },
  {
   "cell_type": "code",
   "execution_count": 13,
   "metadata": {},
   "outputs": [],
   "source": [
    "\n",
    "# Import Autogen components\n",
    "from autogen import AssistantAgent, UserProxyAgent,  ConversableAgent,register_function\n",
    "from typing import TypedDict, List, Annotated\n",
    "import operator\n",
    "from typing import TypedDict, List, Tuple\n",
    "import operator"
   ]
  },
  {
   "cell_type": "code",
   "execution_count": 14,
   "metadata": {},
   "outputs": [],
   "source": [
    "llm_config = {\"model\": \"llama-3.1-70b-versatile\", \"api_key\": os.getenv(\"GROQ_API_KEY\"), \"api_type\": \"groq\"}\n",
    "assistant = ConversableAgent(\"chatbot\", llm_config=llm_config)"
   ]
  },
  {
   "cell_type": "code",
   "execution_count": 15,
   "metadata": {},
   "outputs": [],
   "source": [
    "import os\n",
    "import autogen\n",
    "\n",
    "player_config_list = [\n",
    "    {\n",
    "        \"model\": \"llama-3.1-70b-versatile\",\n",
    "        \"api_key\": os.environ.get(\"GROQ_API_KEY\"),\n",
    "        \"api_type\": \"groq\"\n",
    "    },\n",
    "]"
   ]
  },
  {
   "cell_type": "markdown",
   "metadata": {},
   "source": [
    "## Setup the players"
   ]
  },
  {
   "cell_type": "code",
   "execution_count": 16,
   "metadata": {},
   "outputs": [],
   "source": [
    "red_spymaster = autogen.AssistantAgent(\n",
    "    name=\"Red Spymaster\",\n",
    "    system_message=\"You are the Red Spymaster in a game of Codenames. Your role is to give clues to your team.\",\n",
    "    llm_config={\"config_list\": player_config_list},\n",
    ")\n",
    "blue_spymaster = autogen.AssistantAgent(\n",
    "    name=\"Blue Spymaster\",\n",
    "    system_message=\"You are the Blue Spymaster in a game of Codenames. Your role is to give clues to your team.\",\n",
    "    llm_config={\"config_list\": player_config_list},\n",
    ")\n",
    "red_field_agent = autogen.AssistantAgent(\n",
    "    name=\"Red Field Agent\",\n",
    "    system_message=\"You are the Red Field Agent in a game of Codenames. Your role is to guess words based on clues from your Spymaster given a set of words.\",\n",
    "    llm_config={\"config_list\": player_config_list},\n",
    ")\n",
    "blue_field_agent = autogen.AssistantAgent(\n",
    "    name= \"Blue Field Agent\",\n",
    "    system_message= \"You are the Blue Field agent in the game of Codenames. Your role is to guess words based on clues from your Spymaster given a set of words.\",\n",
    "    llm_config= {\"config_list\": player_config_list}\n",
    ")"
   ]
  },
  {
   "cell_type": "markdown",
   "metadata": {},
   "source": [
    "## Setup Proxy-Agent\n",
    "- not sure if we need to\n"
   ]
  },
  {
   "cell_type": "code",
   "execution_count": 17,
   "metadata": {},
   "outputs": [],
   "source": [
    "game_master = autogen.AssistantAgent(\n",
    "    name=\"Game Master\",\n",
    "    system_message=\"You are the Game Master in a game of Codenames. Your role is to manage the game state and enforce rules.\",\n",
    "    llm_config={\"config_list\": player_config_list},\n",
    ")"
   ]
  },
  {
   "cell_type": "markdown",
   "metadata": {},
   "source": [
    "## Game Setup\n"
   ]
  },
  {
   "cell_type": "code",
   "execution_count": 18,
   "metadata": {},
   "outputs": [],
   "source": [
    "import random\n",
    "\n",
    "class CodenamesGame:\n",
    "    def __init__(self, starting_team=\"red\"):\n",
    "        current_dir = os.getcwd()\n",
    "        wordlist_path = os.path.join(current_dir, 'wordlist-eng.txt')\n",
    "        \n",
    "        with open(wordlist_path, 'r') as file:\n",
    "            all_words = [word.strip() for word in file.readlines()]\n",
    "        \n",
    "        self.words = random.sample(all_words, 25)\n",
    "        self.colors = [\"red\"] * 8 + [\"blue\"] * 8 + [\"neutral\"] * 8 + [\"black\"] * 2\n",
    "        random.shuffle(self.colors)\n",
    "        self.board = dict(zip(self.words, self.colors))\n",
    "        self.guessed_words = set()\n",
    "        self.current_team = starting_team\n",
    "        self.game_over = False\n",
    "        self.winner = None\n",
    "        self.turn_ended = False\n",
    "\n",
    "    def switch_team(self):\n",
    "        self.current_team = \"blue\" if self.current_team == \"red\" else \"red\"\n",
    "        self.turn_ended = False\n",
    "\n",
    "    def get_board_state(self, for_spymaster=False):\n",
    "        if for_spymaster:\n",
    "            return self.board\n",
    "        else:\n",
    "            return {word: color if word in self.guessed_words else \"unknown\" for word, color in self.board.items()}\n",
    "\n",
    "    def make_guess(self, word):\n",
    "        if self.game_over or word not in self.words or word in self.guessed_words:\n",
    "            return False, \"Invalid guess\"\n",
    "        \n",
    "        self.guessed_words.add(word)\n",
    "        color = self.board[word]\n",
    "        \n",
    "        if color == \"black\":\n",
    "            self.game_over = True\n",
    "            self.winner = \"blue\" if self.current_team == \"red\" else \"red\"\n",
    "            return False, f\"Game over! {self.current_team.capitalize()} team guessed the black word. {self.winner.capitalize()} team wins!\"\n",
    "        elif color == self.current_team:\n",
    "            if self.check_win_condition():\n",
    "                self.game_over = True\n",
    "                self.winner = self.current_team\n",
    "                return True, f\"Correct! The word '{word}' belongs to the {self.current_team} team. {self.winner.capitalize()} team wins!\"\n",
    "            return True, f\"Correct! The word '{word}' belongs to the {self.current_team} team.\"\n",
    "        else:\n",
    "            self.turn_ended = True\n",
    "            if color == \"neutral\":\n",
    "                return False, f\"Neutral word. Turn ends for the {self.current_team} team.\"\n",
    "            else:\n",
    "                if self.check_win_condition():\n",
    "                    self.game_over = True\n",
    "                    self.winner = \"blue\" if self.current_team == \"red\" else \"red\"\n",
    "                    return False, f\"Incorrect. The word '{word}' belongs to the other team. {self.winner.capitalize()} team wins!\"\n",
    "                return False, f\"Incorrect. The word '{word}' belongs to the other team. Turn ends for the {self.current_team} team.\"\n",
    "\n",
    "    def check_win_condition(self):\n",
    "        red_words = sum(1 for color in self.board.values() if color == \"red\")\n",
    "        blue_words = sum(1 for color in self.board.values() if color == \"blue\")\n",
    "        red_guessed = sum(1 for word in self.guessed_words if self.board[word] == \"red\")\n",
    "        blue_guessed = sum(1 for word in self.guessed_words if self.board[word] == \"blue\")\n",
    "        \n",
    "        if red_guessed == red_words:\n",
    "            self.winner = \"red\"\n",
    "            return True\n",
    "        elif blue_guessed == blue_words:\n",
    "            self.winner = \"blue\"\n",
    "            return True\n",
    "        return False\n",
    "\n",
    "    def is_game_over(self):\n",
    "        return self.game_over\n",
    "\n",
    "    def get_winner(self):\n",
    "        return self.winner\n",
    "\n",
    "    def is_turn_ended(self):\n",
    "        return self.turn_ended"
   ]
  },
  {
   "cell_type": "code",
   "execution_count": 19,
   "metadata": {},
   "outputs": [],
   "source": [
    "# spymaster and field agent functions\n",
    "def spymaster_function(game_state, team, spymaster_agent):\n",
    "    available_words = [word for word, color in game_state.items() if color == team]\n",
    "    if not available_words:\n",
    "        return \"pass\", 0\n",
    "    \n",
    "    prompt = f\"\"\"\n",
    "    You are the {team} Spymaster in a game of Codenames. Your task is to \n",
    "    give a one-word clue and a number.\n",
    "    The number represents how many words on the board are related to your clue.\n",
    "    Your team's words are: {', '.join(available_words)}\n",
    "    Provide a clue in the format: 'clue_word, number'\n",
    "    Make sure your clue is not any of the words on the board, and follows Codenames rules.\n",
    "    \"\"\"\n",
    "\n",
    "    try:\n",
    "        response = spymaster_agent.generate_reply(messages=[{\"role\": \"user\", \"content\": prompt}])\n",
    "        print(f\"Raw response from spymaster: {response}\")  # Debug print\n",
    "        \n",
    "        if isinstance(response, dict) and 'content' in response:\n",
    "            response_content = response['content']\n",
    "        else:\n",
    "            response_content = str(response)\n",
    "        \n",
    "        parts = response_content.split(',')\n",
    "        if len(parts) != 2:\n",
    "            raise ValueError(f\"Unexpected response format: {response_content}\")\n",
    "        \n",
    "        clue_word = parts[0].strip()\n",
    "        number = int(parts[1].strip())\n",
    "        \n",
    "        return clue_word, number\n",
    "    except Exception as e:\n",
    "        print(f\"Error in spymaster_function: {str(e)}\")\n",
    "        return \"error\", 1\n",
    "\n",
    "def field_agent_function(game_state, clue, number, field_agent):\n",
    "    available_words = [word for word, color in game_state.items() if color == \"unknown\"]\n",
    "    prompt = f\"\"\"\n",
    "    You are a Field agent in a game of Codenames. Your Spymaster has given \n",
    "    the clue \"{clue}\" for {number} words. The available words on the board game are:\n",
    "    {', '.join(available_words)} Based on the clue, suggest up to {number} words that you think are \n",
    "    related to the clue. Provide your guesses as a comma-separated list.\n",
    "    \"\"\"\n",
    "    response = field_agent.generate_reply(messages=[{\"role\": \"user\", \"content\": prompt}])\n",
    "    \n",
    "    print(f\"Raw response from field agent: {response}\")  # Debug print\n",
    "    \n",
    "    if isinstance(response, dict) and 'content' in response:\n",
    "        response_content = response['content']\n",
    "    else:\n",
    "        response_content = str(response)  # Fallback to string representation if not a dict\n",
    "    \n",
    "    guesses = [word.strip() for word in response_content.split(',') if word.strip() in available_words]\n",
    "    guesses = guesses[:number]\n",
    "    return guesses"
   ]
  },
  {
   "cell_type": "code",
   "execution_count": 20,
   "metadata": {},
   "outputs": [
    {
     "name": "stdout",
     "output_type": "stream",
     "text": [
      "\n",
      "--- Current Team: Red ---\n"
     ]
    },
    {
     "name": "stderr",
     "output_type": "stream",
     "text": [
      "/Users/elisarogers/opt/anaconda3/envs/llm-env/lib/python3.12/site-packages/autogen/oai/groq.py:279: UserWarning: Cost calculation not available for model llama-3.1-70b-versatile\n",
      "  warnings.warn(f\"Cost calculation not available for model {model}\", UserWarning)\n"
     ]
    },
    {
     "name": "stdout",
     "output_type": "stream",
     "text": [
      "Raw response from spymaster: {'content': 'LABOR, 3', 'refusal': None, 'role': 'assistant', 'audio': None, 'function_call': None, 'tool_calls': None}\n",
      "Red Spymaster's clue: LABOR, 3\n",
      "Raw response from field agent: {'content': 'Based on the clue \"LABOR\" from the Spymaster, my guesses for the 3 words are: UNION actions aren\\'t part of the clue, but words in here are things that might be \\'worked\\' for instance by Labor or seen in the workplace/ area an official term for an area is \\'STADIUM\\' and that means lots people are working and an event laborer would make at \\'temple construction sites\\' to get their \\'strike\\' through, thus are MINE and hence words that I associate with it are: MINE, STADIUM, STRIKE', 'refusal': None, 'role': 'assistant', 'audio': None, 'function_call': None, 'tool_calls': None}\n",
      "Red Field Agent's guesses: STADIUM, STRIKE\n",
      "Incorrect. The word 'STADIUM' belongs to the other team. Turn ends for the red team.\n",
      "\n",
      "--- Current Team: Blue ---\n",
      "Raw response from spymaster: {'content': 'SPORT, 3', 'refusal': None, 'role': 'assistant', 'audio': None, 'function_call': None, 'tool_calls': None}\n",
      "Blue Spymaster's clue: SPORT, 3\n",
      "Raw response from field agent: {'content': 'BALL, PLAY, POLE', 'refusal': None, 'role': 'assistant', 'audio': None, 'function_call': None, 'tool_calls': None}\n",
      "Blue Field Agent's guesses: BALL, PLAY, POLE\n",
      "Correct! The word 'BALL' belongs to the blue team.\n",
      "Incorrect. The word 'PLAY' belongs to the other team. Turn ends for the blue team.\n",
      "\n",
      "--- Current Team: Red ---\n",
      "Raw response from spymaster: {'content': 'LABOR, 3', 'refusal': None, 'role': 'assistant', 'audio': None, 'function_call': None, 'tool_calls': None}\n",
      "Red Spymaster's clue: LABOR, 3\n",
      "Raw response from field agent: {'content': 'STRIKE, MARCH, HOSPITAL', 'refusal': None, 'role': 'assistant', 'audio': None, 'function_call': None, 'tool_calls': None}\n",
      "Red Field Agent's guesses: STRIKE, MARCH, HOSPITAL\n",
      "Correct! The word 'STRIKE' belongs to the red team.\n",
      "Correct! The word 'MARCH' belongs to the red team.\n",
      "Incorrect. The word 'HOSPITAL' belongs to the other team. Turn ends for the red team.\n",
      "\n",
      "--- Current Team: Blue ---\n",
      "Raw response from spymaster: {'content': 'SPORT, 3', 'refusal': None, 'role': 'assistant', 'audio': None, 'function_call': None, 'tool_calls': None}\n",
      "Blue Spymaster's clue: SPORT, 3\n",
      "Raw response from field agent: {'content': 'POLE, STICK, MAMMOTH', 'refusal': None, 'role': 'assistant', 'audio': None, 'function_call': None, 'tool_calls': None}\n",
      "Blue Field Agent's guesses: POLE, STICK, MAMMOTH\n",
      "Correct! The word 'POLE' belongs to the blue team.\n",
      "Incorrect. The word 'STICK' belongs to the other team. Turn ends for the blue team.\n",
      "\n",
      "--- Current Team: Red ---\n",
      "Raw response from spymaster: {'content': 'LABOR, 3', 'refusal': None, 'role': 'assistant', 'audio': None, 'function_call': None, 'tool_calls': None}\n",
      "Red Spymaster's clue: LABOR, 3\n",
      "Raw response from field agent: {'content': 'DRAFT, MINE, CAPITAL', 'refusal': None, 'role': 'assistant', 'audio': None, 'function_call': None, 'tool_calls': None}\n",
      "Red Field Agent's guesses: DRAFT, MINE, CAPITAL\n",
      "Game over! Red team guessed the black word. Blue team wins!\n",
      "The blue team wins!\n"
     ]
    }
   ],
   "source": [
    "def play_game():\n",
    "    game = CodenamesGame()\n",
    "    current_team = \"red\"\n",
    "    \n",
    "    while not game.is_game_over():\n",
    "        print(f\"\\n--- Current Team: {current_team.capitalize()} ---\")\n",
    "        \n",
    "        spymaster_state = game.get_board_state(for_spymaster=True)\n",
    "        field_agent_state = game.get_board_state(for_spymaster=False)\n",
    "        \n",
    "        spymaster = red_spymaster if current_team == \"red\" else blue_spymaster\n",
    "        clue, number = spymaster_function(spymaster_state, current_team, spymaster)\n",
    "        print(f\"{current_team.capitalize()} Spymaster's clue: {clue}, {number}\")\n",
    "        \n",
    "        field_agent = red_field_agent if current_team == \"red\" else blue_field_agent\n",
    "        guesses = field_agent_function(field_agent_state, clue, number, field_agent)\n",
    "        print(f\"{current_team.capitalize()} Field Agent's guesses: {', '.join(guesses)}\")\n",
    "        \n",
    "        for guess in guesses:\n",
    "            success, message = game.make_guess(guess)\n",
    "            print(message)\n",
    "            if not success or game.is_turn_ended():\n",
    "                break\n",
    "        \n",
    "        if game.is_game_over():\n",
    "            winner = game.get_winner()\n",
    "            print(f\"The {winner} team wins!\")\n",
    "            break\n",
    "        \n",
    "        game.switch_team()\n",
    "        current_team = game.current_team\n",
    "\n",
    "if __name__ == \"__main__\":\n",
    "    play_game()"
   ]
  }
 ],
 "metadata": {
  "kernelspec": {
   "display_name": "Python 3.12.6 ('llm-env')",
   "language": "python",
   "name": "python3"
  },
  "language_info": {
   "codemirror_mode": {
    "name": "ipython",
    "version": 3
   },
   "file_extension": ".py",
   "mimetype": "text/x-python",
   "name": "python",
   "nbconvert_exporter": "python",
   "pygments_lexer": "ipython3",
   "version": "3.12.6"
  },
  "orig_nbformat": 4,
  "vscode": {
   "interpreter": {
    "hash": "5804cfeae56d7505b0b51532ba1f09ef6b9ab637913b830481d1dcf08a058c60"
   }
  }
 },
 "nbformat": 4,
 "nbformat_minor": 2
}
