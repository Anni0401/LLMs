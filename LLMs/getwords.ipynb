{
 "cells": [
  {
   "cell_type": "code",
   "execution_count": 2,
   "metadata": {},
   "outputs": [],
   "source": [
    "import random\n",
    "import os\n",
    "current_dir = os.getcwd()\n",
    "wordlist_path = os.path.join(current_dir, 'wordlist-eng.txt')\n",
    "with open(wordlist_path, 'r') as file:\n",
    "    all_words = [word.strip() for word in file.readlines()]\n",
    "board_words = random.sample(all_words, 25)\n",
    "\n",
    "textfile_path = os.path.join(current_dir,'baseline_words.txt' )\n",
    "textfile = open(textfile_path, 'w')\n",
    "\n",
    "content = '\\n'.join(board_words)\n",
    "\n",
    "textfile.writelines(content)\n",
    "\n"
   ]
  }
 ],
 "metadata": {
  "kernelspec": {
   "display_name": "llm-env",
   "language": "python",
   "name": "python3"
  },
  "language_info": {
   "codemirror_mode": {
    "name": "ipython",
    "version": 3
   },
   "file_extension": ".py",
   "mimetype": "text/x-python",
   "name": "python",
   "nbconvert_exporter": "python",
   "pygments_lexer": "ipython3",
   "version": "3.12.6"
  }
 },
 "nbformat": 4,
 "nbformat_minor": 2
}
